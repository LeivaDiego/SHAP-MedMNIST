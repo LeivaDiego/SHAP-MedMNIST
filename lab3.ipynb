{
 "cells": [
  {
   "cell_type": "code",
   "execution_count": 1,
   "id": "initial_id",
   "metadata": {
    "collapsed": true
   },
   "outputs": [
    {
     "name": "stderr",
     "output_type": "stream",
     "text": [
      "c:\\Users\\diego\\miniconda3\\envs\\respAI3\\Lib\\site-packages\\tqdm\\auto.py:21: TqdmWarning: IProgress not found. Please update jupyter and ipywidgets. See https://ipywidgets.readthedocs.io/en/stable/user_install.html\n",
      "  from .autonotebook import tqdm as notebook_tqdm\n"
     ]
    }
   ],
   "source": [
    "# ========= 1) Setup =========\n",
    "# Install required libraries if needed\n",
    "# !pip install medmnist torch torchvision shap matplotlib\n",
    "\n",
    "import torch\n",
    "import torchvision.transforms as transforms\n",
    "import matplotlib.pyplot as plt\n",
    "import shap\n",
    "import numpy as np\n",
    "import random\n",
    "import os\n",
    "\n",
    "import medmnist\n",
    "from medmnist import INFO"
   ]
  },
  {
   "cell_type": "code",
   "execution_count": 2,
   "id": "83e1965412fe82a3",
   "metadata": {},
   "outputs": [
    {
     "name": "stdout",
     "output_type": "stream",
     "text": [
      "Dataset: The PathMNIST is based on a prior study for predicting survival from colorectal cancer histology slides, providing a dataset (NCT-CRC-HE-100K) of 100,000 non-overlapping image patches from hematoxylin & eosin stained histological images, and a test dataset (CRC-VAL-HE-7K) of 7,180 image patches from a different clinical center. The dataset is comprised of 9 types of tissues, resulting in a multi-class classification task. We resize the source images of 3×224×224 into 3×28×28, and split NCT-CRC-HE-100K into training and validation set with a ratio of 9:1. The CRC-VAL-HE-7K is treated as the test set.\n",
      "Task: multi-class, Classes: 9\n",
      "Classes: {0: 'adipose', 1: 'background', 2: 'debris', 3: 'lymphocytes', 4: 'mucus', 5: 'smooth muscle', 6: 'normal colon mucosa', 7: 'cancer-associated stroma', 8: 'colorectal adenocarcinoma epithelium'}\n"
     ]
    }
   ],
   "source": [
    "# ========= 2) Dataset Info =========\n",
    "data_flag = 'pathmnist'\n",
    "download = True\n",
    "\n",
    "info = INFO[data_flag]\n",
    "n_classes = len(info['label'])\n",
    "id2label = {int(k): v for k, v in info['label'].items()}\n",
    "\n",
    "print(f\"Dataset: {info['description']}\")\n",
    "print(f\"Task: {info['task']}, Classes: {n_classes}\")\n",
    "print(\"Classes:\", id2label)"
   ]
  },
  {
   "cell_type": "code",
   "execution_count": 3,
   "id": "7b5d33628073a26e",
   "metadata": {},
   "outputs": [
    {
     "name": "stderr",
     "output_type": "stream",
     "text": [
      "100%|██████████| 206M/206M [00:21<00:00, 9.67MB/s] \n"
     ]
    },
    {
     "name": "stdout",
     "output_type": "stream",
     "text": [
      "Train size: 89996  Test size: 7180\n"
     ]
    },
    {
     "name": "stderr",
     "output_type": "stream",
     "text": [
      "C:\\Users\\diego\\AppData\\Local\\Temp\\ipykernel_14352\\3842754038.py:20: DeprecationWarning: Conversion of an array with ndim > 0 to a scalar is deprecated, and will error in future. Ensure you extract a single element from your array before performing this operation. (Deprecated NumPy 1.25.)\n",
      "  axs[i].set_title(f\"{id2label[int(label)]}\")  # ✅ cast label to int\n",
      "Clipping input data to the valid range for imshow with RGB data ([0..1] for floats or [0..255] for integers). Got range [-0.6313726..0.84313726].\n",
      "Clipping input data to the valid range for imshow with RGB data ([0..1] for floats or [0..255] for integers). Got range [-0.372549..0.85882354].\n",
      "Clipping input data to the valid range for imshow with RGB data ([0..1] for floats or [0..255] for integers). Got range [-0.32549018..0.8352941].\n",
      "Clipping input data to the valid range for imshow with RGB data ([0..1] for floats or [0..255] for integers). Got range [-0.44313723..0.90588236].\n"
     ]
    },
    {
     "data": {
      "image/png": "[encoded data removed]",
      "text/plain": [
       "<Figure size 1000x200 with 5 Axes>"
      ]
     },
     "metadata": {},
     "output_type": "display_data"
    }
   ],
   "source": [
    "# ========= 3) Load dataset =========\n",
    "DataClass = getattr(medmnist, info['python_class'])\n",
    "\n",
    "transform = transforms.Compose([\n",
    "    transforms.ToTensor(),\n",
    "    transforms.Normalize(mean=[.5], std=[.5])\n",
    "])\n",
    "\n",
    "train_dataset = DataClass(split='train', transform=transform, download=download)\n",
    "test_dataset  = DataClass(split='test', transform=transform, download=download)\n",
    "\n",
    "print(\"Train size:\", len(train_dataset), \" Test size:\", len(test_dataset))\n",
    "\n",
    "# Show 5 sample images\n",
    "fig, axs = plt.subplots(1, 5, figsize=(10, 2))\n",
    "for i in range(5):\n",
    "    img, label = train_dataset[i]\n",
    "    img = img.numpy()\n",
    "    axs[i].imshow(np.transpose(img, (1, 2, 0)).squeeze(), cmap=\"gray\")\n",
    "    axs[i].set_title(f\"{id2label[int(label)]}\")  # ✅ cast label to int\n",
    "    axs[i].axis(\"off\")\n",
    "plt.show()"
   ]
  },
  {
   "cell_type": "code",
   "execution_count": 4,
   "id": "bcdca4bb7e963e56",
   "metadata": {},
   "outputs": [
    {
     "name": "stdout",
     "output_type": "stream",
     "text": [
      "Model class defined and ready.\n"
     ]
    }
   ],
   "source": [
    "# ========= 4) Define Simple CNN Model (already provided) =========\n",
    "import torch.nn as nn\n",
    "import torch.nn.functional as F\n",
    "\n",
    "class SimpleCNN(nn.Module):\n",
    "    def __init__(self, n_channels, n_classes):\n",
    "        super(SimpleCNN, self).__init__()\n",
    "        self.conv1 = nn.Conv2d(n_channels, 16, kernel_size=3, padding=1)\n",
    "        self.pool = nn.MaxPool2d(2, 2)\n",
    "        self.fc1 = nn.Linear(16*14*14, n_classes)\n",
    "\n",
    "    def forward(self, x):\n",
    "        x = self.pool(F.relu(self.conv1(x)))\n",
    "        x = x.reshape(x.size(0), -1)\n",
    "        x = self.fc1(x)\n",
    "        return x\n",
    "\n",
    "model = SimpleCNN(info['n_channels'], n_classes)\n",
    "device = torch.device(\"cuda\" if torch.cuda.is_available() else \"cpu\")\n",
    "model.to(device)\n",
    "\n",
    "print(\"Model class defined and ready.\")"
   ]
  },
  {
   "cell_type": "code",
   "execution_count": 5,
   "id": "2719121bf5fd15d7",
   "metadata": {},
   "outputs": [
    {
     "name": "stdout",
     "output_type": "stream",
     "text": [
      "Pretrained model loaded successfully!\n"
     ]
    }
   ],
   "source": [
    "# ========= 5) Load Pretrained Model =========\n",
    "MODEL_PATH = \"pathmnist_simplecnn.pth\"\n",
    "\n",
    "model.load_state_dict(torch.load(MODEL_PATH, map_location=device))\n",
    "model.eval()\n",
    "\n",
    "print(\"Pretrained model loaded successfully!\")"
   ]
  },
  {
   "cell_type": "code",
   "execution_count": 6,
   "id": "797a7e1b04643317",
   "metadata": {},
   "outputs": [],
   "source": [
    "# ========= 6) Predictions + SHAP Explanations =========\n",
    "# In this cell, you will:\n",
    "#   1. Write a helper function so SHAP can call the model\n",
    "#   2. Pick one test image and predict its class\n",
    "#   3. Compare prediction vs. true label\n",
    "#   4. Use SHAP to explain WHY the model made that prediction\n",
    "#   5. Visualize the results\n",
    "\n",
    "# --- Step 1: Helper function for SHAP ---\n",
    "# TODO: Implement model_forward(x)\n",
    "# HINT: x will come as a numpy array with shape (N, H, W, C).\n",
    "#       Convert it to a torch tensor (N, C, H, W), run through the model,\n",
    "#       return probabilities as numpy.\n",
    "def model_forward(x):\n",
    "    # TODO: write this function\n",
    "    pass\n",
    "\n",
    "\n",
    "# --- Step 2: Pick one test image ---\n",
    "# TODO: Select an image from test_dataset\n",
    "# HINT: take sample_img, sample_label = test_dataset[0] (or a random index)\n",
    "# TODO: Predict class probabilities using the model\n",
    "# TODO: Print predicted class (with probability) and true label\n",
    "# (use id2label to show class names)\n",
    "\n",
    "\n",
    "# --- Step 3: Prepare image for SHAP ---\n",
    "# TODO: Convert the image into numpy format (H, W, C)\n",
    "# HINT: remember test_dataset gives (C, H, W), so you might need np.transpose\n",
    "\n",
    "\n",
    "# --- Step 4: Create SHAP explainer ---\n",
    "# TODO: Create a masker for images\n",
    "# HINT: shap.maskers.Image(\"blur(28,28)\", img_np.shape)\n",
    "# TODO: Create an Explainer with (model_forward, masker)\n",
    "# TODO: Run explainer on your selected image\n",
    "\n",
    "\n",
    "# --- Step 5: Visualize ---\n",
    "# TODO: Plot the original image and the SHAP heatmap side by side\n",
    "# HINT: use matplotlib subplots"
   ]
  },
  {
   "cell_type": "code",
   "execution_count": 7,
   "id": "b12c639e2c494b8f",
   "metadata": {},
   "outputs": [],
   "source": [
    "# ========= 7) Extension: Multiple Images =========\n",
    "# TODO: Loop over 5 random test images\n",
    "# For each:\n",
    "#   - Show original image with true label\n",
    "#   - Predict with the model and show predicted label + probability\n",
    "#   - Plot SHAP heatmap for predicted class\n",
    "# HINT: Use matplotlib with 2 rows and 5 columns"
   ]
  },
  {
   "cell_type": "code",
   "execution_count": 8,
   "id": "1e3dff50fe712537",
   "metadata": {},
   "outputs": [],
   "source": [
    "# ========= 8) Reflection =========\n",
    "# Answer in text (Markdown or comments):\n",
    "# 1. Why did the model predict this class?\n",
    "# 2. Are the SHAP heatmaps focusing on meaningful regions?\n",
    "# 3. What differences do you see between correct and incorrect predictions?\n",
    "# 4. How could interpretability help improve this model?"
   ]
  },
  {
   "cell_type": "code",
   "execution_count": null,
   "id": "a49b33cbfc8c9bcb",
   "metadata": {},
   "outputs": [],
   "source": []
  }
 ],
 "metadata": {
  "kernelspec": {
   "display_name": "respAI3",
   "language": "python",
   "name": "python3"
  },
  "language_info": {
   "codemirror_mode": {
    "name": "ipython",
    "version": 3
   },
   "file_extension": ".py",
   "mimetype": "text/x-python",
   "name": "python",
   "nbconvert_exporter": "python",
   "pygments_lexer": "ipython3",
   "version": "3.12.11"
  }
 },
 "nbformat": 4,
 "nbformat_minor": 5
}
